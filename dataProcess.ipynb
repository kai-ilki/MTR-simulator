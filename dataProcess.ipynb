{
 "cells": [
  {
   "cell_type": "code",
   "execution_count": 58,
   "metadata": {},
   "outputs": [],
   "source": [
    "import numpy as np\n",
    "\n",
    "desTSSW = ['sch_arrival', 'act_arrival', 'dev_arrival', 'sign_arrival', \n",
    "            'sch_dwell', 'act_dwell', 'dev_dwell', 'sign_dwell', \n",
    "            'sch_depart','act_depart', 'dev_depart', 'sign_depart',\n",
    "            'sch_journey', 'act_journey', 'dev_journey', 'sign_journey', \n",
    "            'station_name',  'direction', 'train_line_desc', \n",
    "            'date_fr', 'date_to', 'train_nbr','loaded_tt']\n",
    "\n",
    "def list2dict(content):\n",
    "    dictTSSW = {}\n",
    "    for i in range(len(content)):\n",
    "        dictTSSW[desTSSW[i]] = content[i].strip()\n",
    "    return dictTSSW\n",
    "\n",
    "def time2sec(hms):\n",
    "    [h,m,s]= hms.split(':')\n",
    "    totalSec = int(h)*3600+int(m)*60+int(s)\n",
    "    return totalSec\n",
    "def timeDiff(t1, t2):\n",
    "    t1 = time2sec(t1)\n",
    "    t2 = time2sec(t2)\n",
    "    diff = abs(t1-t2)\n",
    "    return diff\n",
    "\n",
    "def buildTimeTable(fpath):\n",
    "    '''\n",
    "    timeTable is list of a sequence of dict,\n",
    "    each dict is of desTSSW format\n",
    "    '''\n",
    "    fileTSSW = open(fpath,'r')\n",
    "    timeTable = []\n",
    "    lineNum = 0\n",
    "    for line in fileTSSW.readlines():\n",
    "        lineNum +=1\n",
    "        if lineNum > 1:\n",
    "            str = line.strip().split(' ')\n",
    "            dictStr = list2dict(str)\n",
    "            timeTable.append(dictStr)\n",
    "    return timeTable\n"
   ]
  },
  {
   "cell_type": "code",
   "execution_count": 59,
   "metadata": {},
   "outputs": [],
   "source": [
    "### show the delay situation\n",
    "def showDelay(timeTable):\n",
    "    keys = ['dev_arrival','dev_dwell','dev_depart','dev_journey']\n",
    "    for item in timeTable:\n",
    "        devList = []\n",
    "        for key in keys:\n",
    "            curVal = item[key].split('\\t')[0]\n",
    "            print(curVal)\n",
    "            devList.append(time2sec(curVal))\n",
    "        print(devList)"
   ]
  },
  {
   "cell_type": "code",
   "execution_count": 61,
   "metadata": {},
   "outputs": [
    {
     "name": "stdout",
     "output_type": "stream",
     "text": [
      "the first line of timeTable is:  {'sch_arrival': 'E\\t08/02/2019', 'act_arrival': '15:58:22\\t08/02/2019', 'dev_arrival': '15:59:46\\t01/01/1900', 'sign_arrival': '00:01:24\\tL\\t\\t\\t\\t\\tKOT\\tUp\\tKwun', 'sch_dwell': 'Tong', 'act_dwell': 'Line\\t08/02/2019', 'dev_dwell': '16:00:00\\t08/02/2019', 'sign_dwell': '17:00:00\\t15\\tKTL838'}\n",
      "the second line of timeTable is:  {'sch_arrival': '08/02/2019', 'act_arrival': '15:59:54\\t08/02/2019', 'dev_arrival': '16:01:09\\t01/01/1900', 'sign_arrival': '00:01:15\\tL\\t01/01/1900', 'sch_dwell': '00:00:18\\t01/01/1900', 'act_dwell': '00:00:22\\t01/01/1900', 'dev_dwell': '00:00:04\\tL\\t08/02/2019', 'sign_dwell': '16:00:12\\t08/02/2019', 'sch_depart': '16:01:31\\t01/01/1900', 'act_depart': '00:01:19\\tL\\t\\t\\t\\t\\tLOF\\tUp\\tKwun', 'dev_depart': 'Tong', 'sign_depart': 'Line\\t08/02/2019', 'sch_journey': '16:00:00\\t08/02/2019', 'act_journey': '17:00:00\\t15\\tKTL838'}\n",
      "length of timeTable: 27\n",
      "15:59:46\n",
      "16:00:00\n"
     ]
    },
    {
     "ename": "KeyError",
     "evalue": "'dev_depart'",
     "output_type": "error",
     "traceback": [
      "\u001b[0;31m---------------------------------------------------------------------------\u001b[0m",
      "\u001b[0;31mKeyError\u001b[0m                                  Traceback (most recent call last)",
      "\u001b[0;32m<ipython-input-61-ca8405d27441>\u001b[0m in \u001b[0;36m<module>\u001b[0;34m\u001b[0m\n\u001b[1;32m      7\u001b[0m \u001b[0;34m\u001b[0m\u001b[0m\n\u001b[1;32m      8\u001b[0m \u001b[0mprint\u001b[0m\u001b[0;34m(\u001b[0m\u001b[0;34m\"length of timeTable: \"\u001b[0m\u001b[0;34m+\u001b[0m\u001b[0mstr\u001b[0m\u001b[0;34m(\u001b[0m\u001b[0mlen\u001b[0m\u001b[0;34m(\u001b[0m\u001b[0mtimeTable\u001b[0m\u001b[0;34m)\u001b[0m\u001b[0;34m)\u001b[0m\u001b[0;34m)\u001b[0m\u001b[0;34m\u001b[0m\u001b[0;34m\u001b[0m\u001b[0m\n\u001b[0;32m----> 9\u001b[0;31m \u001b[0mshowDelay\u001b[0m\u001b[0;34m(\u001b[0m\u001b[0mtimeTable\u001b[0m\u001b[0;34m)\u001b[0m\u001b[0;34m\u001b[0m\u001b[0;34m\u001b[0m\u001b[0m\n\u001b[0m\u001b[1;32m     10\u001b[0m \u001b[0mprint\u001b[0m\u001b[0;34m(\u001b[0m\u001b[0mnp\u001b[0m\u001b[0;34m.\u001b[0m\u001b[0mshape\u001b[0m\u001b[0;34m(\u001b[0m\u001b[0mtimeTable\u001b[0m\u001b[0;34m)\u001b[0m\u001b[0;34m)\u001b[0m\u001b[0;34m\u001b[0m\u001b[0;34m\u001b[0m\u001b[0m\n\u001b[1;32m     11\u001b[0m \u001b[0;31m# print(timeTable[2])\u001b[0m\u001b[0;34m\u001b[0m\u001b[0;34m\u001b[0m\u001b[0;34m\u001b[0m\u001b[0m\n",
      "\u001b[0;32m<ipython-input-59-9ac9860aa607>\u001b[0m in \u001b[0;36mshowDelay\u001b[0;34m(timeTable)\u001b[0m\n\u001b[1;32m      5\u001b[0m         \u001b[0mdevList\u001b[0m \u001b[0;34m=\u001b[0m \u001b[0;34m[\u001b[0m\u001b[0;34m]\u001b[0m\u001b[0;34m\u001b[0m\u001b[0;34m\u001b[0m\u001b[0m\n\u001b[1;32m      6\u001b[0m         \u001b[0;32mfor\u001b[0m \u001b[0mkey\u001b[0m \u001b[0;32min\u001b[0m \u001b[0mkeys\u001b[0m\u001b[0;34m:\u001b[0m\u001b[0;34m\u001b[0m\u001b[0;34m\u001b[0m\u001b[0m\n\u001b[0;32m----> 7\u001b[0;31m             \u001b[0mcurVal\u001b[0m \u001b[0;34m=\u001b[0m \u001b[0mitem\u001b[0m\u001b[0;34m[\u001b[0m\u001b[0mkey\u001b[0m\u001b[0;34m]\u001b[0m\u001b[0;34m.\u001b[0m\u001b[0msplit\u001b[0m\u001b[0;34m(\u001b[0m\u001b[0;34m'\\t'\u001b[0m\u001b[0;34m)\u001b[0m\u001b[0;34m[\u001b[0m\u001b[0;36m0\u001b[0m\u001b[0;34m]\u001b[0m\u001b[0;34m\u001b[0m\u001b[0;34m\u001b[0m\u001b[0m\n\u001b[0m\u001b[1;32m      8\u001b[0m             \u001b[0mprint\u001b[0m\u001b[0;34m(\u001b[0m\u001b[0mcurVal\u001b[0m\u001b[0;34m)\u001b[0m\u001b[0;34m\u001b[0m\u001b[0;34m\u001b[0m\u001b[0m\n\u001b[1;32m      9\u001b[0m             \u001b[0mdevList\u001b[0m\u001b[0;34m.\u001b[0m\u001b[0mappend\u001b[0m\u001b[0;34m(\u001b[0m\u001b[0mtime2sec\u001b[0m\u001b[0;34m(\u001b[0m\u001b[0mcurVal\u001b[0m\u001b[0;34m)\u001b[0m\u001b[0;34m)\u001b[0m\u001b[0;34m\u001b[0m\u001b[0;34m\u001b[0m\u001b[0m\n",
      "\u001b[0;31mKeyError\u001b[0m: 'dev_depart'"
     ]
    }
   ],
   "source": [
    "fpath = \"/Users/wenyasun/Documents/Git/MTR_Simulation/dataset/2019-02-08TSSWReport10.txt\"\n",
    "\n",
    "timeTable = buildTimeTable(fpath)\n",
    "print(\"the first line of timeTable is: \", timeTable[0])\n",
    "print(\"the second line of timeTable is: \", timeTable[1])\n",
    "\n",
    "\n",
    "print(\"length of timeTable: \"+str(len(timeTable)))\n",
    "showDelay(timeTable)\n",
    "print(np.shape(timeTable))\n",
    "# print(timeTable[2])"
   ]
  },
  {
   "cell_type": "code",
   "execution_count": null,
   "metadata": {},
   "outputs": [],
   "source": []
  },
  {
   "cell_type": "code",
   "execution_count": null,
   "metadata": {},
   "outputs": [],
   "source": []
  },
  {
   "cell_type": "code",
   "execution_count": 1,
   "metadata": {},
   "outputs": [],
   "source": [
    "# data summary of TSSW report data\n",
    "\n",
    "# 17 stations on Kwun Tong Line\n",
    "stationList = ['TIK', 'YAT', 'LAT', 'KWT','NTK',\n",
    "              'KOB','CHH','DIH','WTS','LOF',\n",
    "              'KOT','SKM','PRE','MOK','YMT',\n",
    "              'HOM','WHA']\n",
    "# distances between stations -- down track direction\n",
    "downTrackDist = [2.090, 1.067, 0.927, 0.864, 1.157,\n",
    "                1.419, 0.949, 0.800, 0.934, 0.996,\n",
    "                1.242, 0.800, 0.586, 0.764, 1.814,\n",
    "                0.829]\n",
    "\n",
    "# distances between stations -- up track direction\n",
    "upTrackDist = [0.830, 1.804, 0.766, 0.585, 0.797, \n",
    "               1.266, 0.990, 0.938, 0.809, 0.949, \n",
    "               1.443, 1.143, 0.867, 0.930,1.089,\n",
    "               2.087]\n",
    "# Run time and dwell time between different time slots-- run time\n",
    "# downTrackRunTimeMorning = [154,118,91,80,102,\n",
    "#                            118,95,82,84,91,\n",
    "#                            108,88,67,83,131,\n",
    "#                            74]\n",
    "# downTrackRunTimeNoon2After = [154,118,91,80,102,\n",
    "#                              118,95,82,84,91,\n",
    "#                              108,88,67,83,131,\n",
    "#                              74]\n",
    "# downTrackRunTimeEvening = [154,118,91,80,102,\n",
    "#                           118,95,82,84,91,\n",
    "#                           108,88,67,83,131,\n",
    "#                           74]\n",
    "# downTrackRunTimeNonpeak = [175,118,95,82,104,\n",
    "#                           120,97,84,86,93,\n",
    "#                           110,90,70,84,131,\n",
    "#                           74]\n",
    "\n",
    "\n",
    "# # Run time and dwell time between different time slots -- dwell time\n",
    "# downTrackDwellTimeMorning = [30,24,24,24,26,\n",
    "#                             26,25,27,26,38,\n",
    "#                             26,28,32,30,20,\n",
    "#                             None]\n",
    "# downTrackDwellTimeNoon2After = [28,23,23,25,23,\n",
    "#                                23,24,26,27,38,\n",
    "#                                26,28,32,30,20,\n",
    "#                                None]\n",
    "# downTrackDwellTimeEvening = [32,24,24,26,26,\n",
    "#                             26,26,28,27,38,\n",
    "#                             26,28,30,25,20,\n",
    "#                             None]\n",
    "# downTrackDwellNonpeak = [23,20,19,18,20,\n",
    "#                         20,18,20,20,30,\n",
    "#                         19,24,20,20,20,\n",
    "#                         None]\n"
   ]
  },
  {
   "cell_type": "code",
   "execution_count": null,
   "metadata": {},
   "outputs": [],
   "source": []
  },
  {
   "cell_type": "code",
   "execution_count": null,
   "metadata": {},
   "outputs": [],
   "source": [
    "runTimeDownTrack = [{'Morning': 154, 'Noon-Afternoon':154,'Evening':154, 'Non-peak':175},\n",
    "           {'Morning': 118 , 'Noon-Afternoon': 118,'Evening':118 , 'Non-peak':118 },\n",
    "           {'Morning': 91, 'Noon-Afternoon':91,'Evening':91, 'Non-peak':95},\n",
    "           {'Morning': 80, 'Noon-Afternoon':80,'Evening':80, 'Non-peak':82},\n",
    "           {'Morning': 102, 'Noon-Afternoon':102,'Evening':102, 'Non-peak':104},\n",
    "           {'Morning': 118, 'Noon-Afternoon':118,'Evening':118, 'Non-peak':120},\n",
    "           {'Morning': 95, 'Noon-Afternoon':95,'Evening':95, 'Non-peak':97},\n",
    "           {'Morning': 82, 'Noon-Afternoon':82,'Evening':82, 'Non-peak':84},\n",
    "           {'Morning': 84, 'Noon-Afternoon':84,'Evening':84, 'Non-peak':86},\n",
    "           {'Morning': 91, 'Noon-Afternoon':91,'Evening':91, 'Non-peak':93},\n",
    "           {'Morning': 108, 'Noon-Afternoon':108,'Evening':108, 'Non-peak':110},\n",
    "           {'Morning': 88, 'Noon-Afternoon':88,'Evening':88, 'Non-peak':90},\n",
    "           {'Morning': 67, 'Noon-Afternoon':67,'Evening':67, 'Non-peak':70},\n",
    "           {'Morning': 83, 'Noon-Afternoon':83,'Evening':83, 'Non-peak':84},\n",
    "           {'Morning': 131, 'Noon-Afternoon':131,'Evening':131, 'Non-peak':131},\n",
    "           {'Morning': 74, 'Noon-Afternoon':74,'Evening':74, 'Non-peak':74}\n",
    "]\n",
    "dwellTimeDownTrack = [{'Morning': 30, 'Noon-Afternoon':28,'Evening':32, 'Non-peak':23},\n",
    "           {'Morning': 24, 'Noon-Afternoon':23,'Evening':24, 'Non-peak':20},\n",
    "           {'Morning': 24, 'Noon-Afternoon':23,'Evening':24, 'Non-peak':19},\n",
    "           {'Morning': 24, 'Noon-Afternoon':25,'Evening':26, 'Non-peak':18},\n",
    "           {'Morning': 26, 'Noon-Afternoon':23,'Evening':26, 'Non-peak':20},\n",
    "           {'Morning': 26, 'Noon-Afternoon':23,'Evening':26, 'Non-peak':20},\n",
    "           {'Morning': 25, 'Noon-Afternoon':24,'Evening':26, 'Non-peak':18},\n",
    "           {'Morning': 27, 'Noon-Afternoon':26,'Evening':28, 'Non-peak':20},\n",
    "           {'Morning': 26, 'Noon-Afternoon':27,'Evening':27, 'Non-peak':20},\n",
    "           {'Morning': 38, 'Noon-Afternoon':38,'Evening':38, 'Non-peak':30},\n",
    "           {'Morning': 26, 'Noon-Afternoon':26,'Evening':26, 'Non-peak':19},\n",
    "           {'Morning': 28, 'Noon-Afternoon':28,'Evening':28, 'Non-peak':24},\n",
    "           {'Morning': 32, 'Noon-Afternoon':32,'Evening':30, 'Non-peak':20},\n",
    "           {'Morning': 30, 'Noon-Afternoon':30,'Evening':25, 'Non-peak':20},\n",
    "           {'Morning': 20, 'Noon-Afternoon':20,'Evening':20, 'Non-peak':20},\n",
    "           {'Morning': None, 'Noon-Afternoon':None,'Evening':None, 'Non-peak':None}\n",
    "                    \n",
    "]"
   ]
  },
  {
   "cell_type": "code",
   "execution_count": null,
   "metadata": {},
   "outputs": [],
   "source": [
    "runTimeUpTrack = [{'Morning': 79, 'Noon-Afternoon':79,'Evening':79, 'Non-peak':79},\n",
    "           {'Morning': 128, 'Noon-Afternoon':128,'Evening':128, 'Non-peak':128},\n",
    "           {'Morning': 80, 'Noon-Afternoon':80,'Evening':80, 'Non-peak':80},\n",
    "           {'Morning': 68, 'Noon-Afternoon':68,'Evening':68, 'Non-peak':68},\n",
    "           {'Morning': 76, 'Noon-Afternoon':76,'Evening':76, 'Non-peak':76},\n",
    "           {'Morning': 107, 'Noon-Afternoon':107,'Evening':107, 'Non-peak':107},\n",
    "           {'Morning': 92, 'Noon-Afternoon':92,'Evening':92, 'Non-peak':92},\n",
    "           {'Morning': 85, 'Noon-Afternoon':85,'Evening':85, 'Non-peak':85},\n",
    "           {'Morning': 82, 'Noon-Afternoon':82,'Evening':82, 'Non-peak':82},\n",
    "           {'Morning': 89, 'Noon-Afternoon':89,'Evening':89, 'Non-peak':89},\n",
    "           {'Morning': 120, 'Noon-Afternoon':120,'Evening':120, 'Non-peak':120},\n",
    "           {'Morning': 101, 'Noon-Afternoon':101,'Evening':101, 'Non-peak':101},\n",
    "           {'Morning': 84, 'Noon-Afternoon':84,'Evening':84, 'Non-peak':85},\n",
    "           {'Morning': 90, 'Noon-Afternoon':90,'Evening':90, 'Non-peak':91},\n",
    "           {'Morning': 96, 'Noon-Afternoon':96,'Evening':96, 'Non-peak':140},\n",
    "           {'Morning': 157, 'Noon-Afternoon':157,'Evening':157, 'Non-peak':186}\n",
    "]\n",
    "dwellTimeUpTrack = [{'Morning': 22, 'Noon-Afternoon':20,'Evening':20, 'Non-peak':20},\n",
    "           {'Morning': 25, 'Noon-Afternoon':20,'Evening':30, 'Non-peak':20},\n",
    "           {'Morning': 25, 'Noon-Afternoon':25,'Evening':30, 'Non-peak':20},\n",
    "           {'Morning': 32, 'Noon-Afternoon':34,'Evening':32, 'Non-peak':23},\n",
    "           {'Morning': 28, 'Noon-Afternoon':28,'Evening':25, 'Non-peak':19},\n",
    "           {'Morning': 40, 'Noon-Afternoon':40,'Evening':40, 'Non-peak':23},\n",
    "           {'Morning': 26, 'Noon-Afternoon':28,'Evening':25, 'Non-peak':18},\n",
    "           {'Morning': 29, 'Noon-Afternoon':30,'Evening':27, 'Non-peak':19},\n",
    "           {'Morning': 24, 'Noon-Afternoon':24,'Evening':23, 'Non-peak':18},\n",
    "           {'Morning': 24, 'Noon-Afternoon':26,'Evening':24, 'Non-peak':19},\n",
    "           {'Morning': 24, 'Noon-Afternoon':24,'Evening':23, 'Non-peak':19},\n",
    "           {'Morning': 23, 'Noon-Afternoon':23,'Evening':23, 'Non-peak':18},\n",
    "           {'Morning': 30, 'Noon-Afternoon':30,'Evening':34, 'Non-peak':19},\n",
    "           {'Morning': 28, 'Noon-Afternoon':28,'Evening':36, 'Non-peak':18},\n",
    "           {'Morning': 36, 'Noon-Afternoon':36,'Evening':40, 'Non-peak':48},\n",
    "           {'Morning': None, 'Noon-Afternoon':None,'Evening':None, 'Non-peak':None}\n",
    "                    \n",
    "]\n",
    "\n"
   ]
  },
  {
   "cell_type": "code",
   "execution_count": null,
   "metadata": {},
   "outputs": [],
   "source": [
    "def oneDayTimeTable():\n",
    "    pass\n",
    "def multiTrainTB(): \n",
    "    pass\n",
    "def shortTrip():\n",
    "    pass  \n"
   ]
  },
  {
   "cell_type": "code",
   "execution_count": null,
   "metadata": {},
   "outputs": [],
   "source": [
    "\n"
   ]
  },
  {
   "cell_type": "code",
   "execution_count": 3,
   "metadata": {},
   "outputs": [],
   "source": [
    "\n",
    "\n",
    "        \n",
    "    "
   ]
  },
  {
   "cell_type": "code",
   "execution_count": 4,
   "metadata": {},
   "outputs": [],
   "source": [
    "\n",
    "    "
   ]
  },
  {
   "cell_type": "code",
   "execution_count": 8,
   "metadata": {},
   "outputs": [],
   "source": [
    "\n",
    "    "
   ]
  },
  {
   "cell_type": "code",
   "execution_count": 5,
   "metadata": {},
   "outputs": [
    {
     "name": "stdout",
     "output_type": "stream",
     "text": [
      "(27,)\n",
      "{'sch_arrival': '08/02/2019 16:01:40', 'act_arrival': '08/02/2019 16:02:51', 'dev_arrival': '01/01/1900 00:01:11', 'sign_arrival': 'L', 'sch_dwell': '01/01/1900 00:00:19', 'act_dwell': '01/01/1900 00:00:30', 'dev_dwell': '01/01/1900 00:00:11', 'sign_dwell': 'L', 'sch_depart': '08/02/2019 16:01:59', 'act_depart': '08/02/2019 16:03:21', 'dev_depart': '01/01/1900 00:01:22', 'sign_depart': 'L', 'sch_journey': '01/01/1900 00:01:28', 'act_journey': '01/01/1900 00:01:20', 'dev_journey': '01/01/1900 00:00:08', 'sign_journey': 'E', 'station_name': 'WTS', 'direction': 'Up', 'train_line_desc': 'Kwun Tong Line', 'date_fr': '08/02/2019 16:00:00', 'date_to': '08/02/2019 17:00:00', 'train_nbr': '15', 'loaded_tt': 'KTL838'}\n"
     ]
    }
   ],
   "source": [
    "\n"
   ]
  },
  {
   "cell_type": "code",
   "execution_count": 10,
   "metadata": {},
   "outputs": [
    {
     "name": "stdout",
     "output_type": "stream",
     "text": [
      "71\n",
      "71\n"
     ]
    }
   ],
   "source": [
    "t1 = '08/02/2019 16:02:51'\n",
    "t2 = '08/02/2019 16:01:40'\n",
    "# sec = time2sec('08/02/2019 16:02:51')\n",
    "diff = timeDiff(t1,t2)\n",
    "# print(sec)\n",
    "print(diff)\n",
    "print(time2sec('01/01/1900 00:01:11'))"
   ]
  },
  {
   "cell_type": "code",
   "execution_count": 11,
   "metadata": {},
   "outputs": [
    {
     "ename": "NameError",
     "evalue": "name 'timeTable' is not defined",
     "output_type": "error",
     "traceback": [
      "\u001b[0;31m---------------------------------------------------------------------------\u001b[0m",
      "\u001b[0;31mNameError\u001b[0m                                 Traceback (most recent call last)",
      "\u001b[0;32m<ipython-input-11-56b40cff581f>\u001b[0m in \u001b[0;36m<module>\u001b[0;34m\u001b[0m\n\u001b[1;32m      1\u001b[0m \u001b[0;31m### show the delay situation\u001b[0m\u001b[0;34m\u001b[0m\u001b[0;34m\u001b[0m\u001b[0;34m\u001b[0m\u001b[0m\n\u001b[0;32m----> 2\u001b[0;31m \u001b[0;32mfor\u001b[0m \u001b[0mitem\u001b[0m \u001b[0;32min\u001b[0m \u001b[0mtimeTable\u001b[0m\u001b[0;34m:\u001b[0m\u001b[0;34m\u001b[0m\u001b[0;34m\u001b[0m\u001b[0m\n\u001b[0m\u001b[1;32m      3\u001b[0m     \u001b[0mdevList\u001b[0m \u001b[0;34m=\u001b[0m \u001b[0mitem\u001b[0m\u001b[0;34m[\u001b[0m\u001b[0;34m'dev_arrival'\u001b[0m\u001b[0;34m,\u001b[0m\u001b[0;34m'dev_dwell'\u001b[0m\u001b[0;34m,\u001b[0m\u001b[0;34m'dev_depart'\u001b[0m\u001b[0;34m,\u001b[0m\u001b[0;34m'dev_journey'\u001b[0m\u001b[0;34m]\u001b[0m\u001b[0;34m\u001b[0m\u001b[0;34m\u001b[0m\u001b[0m\n\u001b[1;32m      4\u001b[0m     \u001b[0;32mfor\u001b[0m \u001b[0mi\u001b[0m \u001b[0;32min\u001b[0m \u001b[0mrange\u001b[0m\u001b[0;34m(\u001b[0m\u001b[0mdevList\u001b[0m\u001b[0;34m)\u001b[0m\u001b[0;34m:\u001b[0m\u001b[0;34m\u001b[0m\u001b[0;34m\u001b[0m\u001b[0m\n\u001b[1;32m      5\u001b[0m         \u001b[0mdevList\u001b[0m\u001b[0;34m[\u001b[0m\u001b[0mi\u001b[0m\u001b[0;34m]\u001b[0m \u001b[0;34m=\u001b[0m \u001b[0mtime2sec\u001b[0m\u001b[0;34m(\u001b[0m\u001b[0mdevList\u001b[0m\u001b[0;34m[\u001b[0m\u001b[0mi\u001b[0m\u001b[0;34m]\u001b[0m\u001b[0;34m)\u001b[0m\u001b[0;34m\u001b[0m\u001b[0;34m\u001b[0m\u001b[0m\n",
      "\u001b[0;31mNameError\u001b[0m: name 'timeTable' is not defined"
     ]
    }
   ],
   "source": [
    "\n",
    "    \n"
   ]
  },
  {
   "cell_type": "code",
   "execution_count": null,
   "metadata": {},
   "outputs": [],
   "source": [
    "    "
   ]
  },
  {
   "cell_type": "code",
   "execution_count": null,
   "metadata": {},
   "outputs": [],
   "source": []
  },
  {
   "cell_type": "code",
   "execution_count": null,
   "metadata": {},
   "outputs": [],
   "source": []
  },
  {
   "cell_type": "code",
   "execution_count": null,
   "metadata": {},
   "outputs": [],
   "source": []
  },
  {
   "cell_type": "code",
   "execution_count": null,
   "metadata": {},
   "outputs": [],
   "source": []
  }
 ],
 "metadata": {
  "kernelspec": {
   "display_name": "Python 3",
   "language": "python",
   "name": "python3"
  },
  "language_info": {
   "codemirror_mode": {
    "name": "ipython",
    "version": 3
   },
   "file_extension": ".py",
   "mimetype": "text/x-python",
   "name": "python",
   "nbconvert_exporter": "python",
   "pygments_lexer": "ipython3",
   "version": "3.7.3"
  }
 },
 "nbformat": 4,
 "nbformat_minor": 2
}
